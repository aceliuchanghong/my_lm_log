{
 "cells": [
  {
   "cell_type": "code",
   "execution_count": null,
   "metadata": {},
   "outputs": [],
   "source": [
    "import os\n",
    "!git config --global http.proxy socks5 127.0.0.1:10809\n",
    "!git config --global https.proxy socks5 127.0.0.1:10809\n",
    "\n",
    "!git config --global http.proxy 127.0.0.1:10809\n",
    "!git config --global https.proxy 127.0.0.1:10809\n",
    "print(f\"{os.getcwd()}\")\n",
    "!git clone https://huggingface.co/amphion/MaskGCT"
   ]
  },
  {
   "cell_type": "code",
   "execution_count": 8,
   "metadata": {},
   "outputs": [
    {
     "name": "stdout",
     "output_type": "stream",
     "text": [
      "自然对数 log_e(100) = 4.605170185988092\n",
      "常用对数 log_10(100) = 2.0\n"
     ]
    }
   ],
   "source": [
    "import math\n",
    "\n",
    "x = 100\n",
    "\n",
    "# 计算自然对数\n",
    "log_e = math.log(x)  # 默认以e为底\n",
    "\n",
    "# 计算以10为底的对数\n",
    "log_10 = math.log10(x)\n",
    "\n",
    "print(f\"自然对数 log_e({x}) = {log_e}\")\n",
    "print(f\"常用对数 log_10({x}) = {log_10}\")"
   ]
  },
  {
   "cell_type": "code",
   "execution_count": 1,
   "metadata": {},
   "outputs": [
    {
     "name": "stdout",
     "output_type": "stream",
     "text": [
      "tensor([ 5., 11.])\n",
      "tensor([[-2.0000,  1.0000],\n",
      "        [ 1.5000, -0.5000]])\n",
      "tensor([[1., 0.],\n",
      "        [0., 1.]])\n"
     ]
    }
   ],
   "source": [
    "import torch\n",
    "\n",
    "# 定义向量\n",
    "v = torch.tensor([1.0, 2.0])\n",
    "\n",
    "# 定义矩阵\n",
    "A = torch.tensor([[1.0, 2.0], [3.0, 4.0]])\n",
    "\n",
    "# 矩阵与向量相乘\n",
    "result = torch.matmul(A, v)\n",
    "print(result)\n",
    "\n",
    "# 计算矩阵的逆\n",
    "A_inv = torch.inverse(A)\n",
    "print(A_inv)\n",
    "\n",
    "# 验证矩阵乘以它的逆是否得到单位矩阵\n",
    "identity = torch.matmul(A, A_inv)\n",
    "print(identity)"
   ]
  }
 ],
 "metadata": {
  "kernelspec": {
   "display_name": ".venv",
   "language": "python",
   "name": "python3"
  },
  "language_info": {
   "codemirror_mode": {
    "name": "ipython",
    "version": 3
   },
   "file_extension": ".py",
   "mimetype": "text/x-python",
   "name": "python",
   "nbconvert_exporter": "python",
   "pygments_lexer": "ipython3",
   "version": "3.11.5"
  }
 },
 "nbformat": 4,
 "nbformat_minor": 2
}
