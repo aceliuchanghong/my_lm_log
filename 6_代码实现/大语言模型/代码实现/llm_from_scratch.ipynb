{
 "cells": [
  {
   "cell_type": "code",
   "execution_count": 1,
   "metadata": {},
   "outputs": [
    {
     "data": {
      "text/plain": [
       "'\\nthis notebook is referenced from:\\nhttps://lightning.ai/docs/pytorch/stable/notebooks/course_UvA-DL/05-transformers-and-MH-attention.html\\nhttps://github.com/aceliuchanghong/LLMs-from-scratch\\nhttps://github.com/aceliuchanghong/llms-from-scratch-cn\\nhttps://github.com/aceliuchanghong/Transformer-from-scratch\\n'"
      ]
     },
     "execution_count": 1,
     "metadata": {},
     "output_type": "execute_result"
    }
   ],
   "source": [
    "\"\"\"\n",
    "this notebook is referenced from:\n",
    "https://lightning.ai/docs/pytorch/stable/notebooks/course_UvA-DL/05-transformers-and-MH-attention.html\n",
    "https://github.com/aceliuchanghong/LLMs-from-scratch\n",
    "https://github.com/aceliuchanghong/llms-from-scratch-cn\n",
    "https://github.com/aceliuchanghong/Transformer-from-scratch\n",
    "\"\"\""
   ]
  },
  {
   "cell_type": "code",
   "execution_count": 20,
   "metadata": {},
   "outputs": [],
   "source": [
    "# 引入依赖\n",
    "# PyTorch Lightning\n",
    "import pytorch_lightning as pl\n",
    "from pytorch_lightning.callbacks import ModelCheckpoint\n",
    "\n",
    "# Standard libraries\n",
    "import math\n",
    "import os\n",
    "import sys\n",
    "from functools import partial\n",
    "\n",
    "# Plotting\n",
    "import matplotlib\n",
    "import matplotlib.pyplot as plt\n",
    "import matplotlib_inline.backend_inline\n",
    "import numpy as np\n",
    "\n",
    "# PyTorch\n",
    "import torch\n",
    "import torch.nn as nn\n",
    "import torch.nn.functional as F\n",
    "import torch.optim as optim\n",
    "import torch.utils.data as data\n",
    "\n",
    "# Torchvision\n",
    "import torchvision\n",
    "from torchvision import transforms\n",
    "from torchvision.datasets import CIFAR100\n",
    "from tqdm.notebook import tqdm\n",
    "\n",
    "# Log\n",
    "from dotenv import load_dotenv\n",
    "import logging\n",
    "from termcolor import colored\n",
    "\n",
    "load_dotenv()\n",
    "log_level = os.getenv(\"LOG_LEVEL\", \"INFO\").upper()\n",
    "logging.basicConfig(\n",
    "    level=getattr(logging, log_level),\n",
    "    format=\"%(asctime)s-%(levelname)s: %(message)s\",\n",
    "    datefmt=\"%Y-%m-%d %H:%M:%S\"\n",
    ")\n",
    "logger = logging.getLogger(__name__)"
   ]
  },
  {
   "cell_type": "code",
   "execution_count": 28,
   "metadata": {},
   "outputs": [
    {
     "data": {
      "text/plain": [
       "<torch._C.Generator at 0x17af7ee9db0>"
      ]
     },
     "execution_count": 28,
     "metadata": {},
     "output_type": "execute_result"
    }
   ],
   "source": [
    "# 超参数设置一下\n",
    "device = 'cuda' if torch.cuda.is_available() else 'cpu'\n",
    "batch_size = 4 # 批次大小\n",
    "context_length = 16 # 文本长度 ==> 截取一段话,其最多有 context_length 个 token \n",
    "d_model = 64  # 模型维度\n",
    "num_layers = 8  # 模型 layer 层数\n",
    "num_heads = 4  # 通过 d_model / num_heads = 来获取 head_size\n",
    "learning_rate = 1e-3  # 学习率 0.001\n",
    "dropout = 0.1 # Dropout rate\n",
    "max_iters = 500  # 迭代次数\n",
    "eval_interval = 50  # 每多少轮验证模型 \n",
    "eval_iters = 20  # 评估模型时，需要对损失进行多少次迭代平均\n",
    "\n",
    "TORCH_SEED = 1337\n",
    "torch.manual_seed(TORCH_SEED)"
   ]
  },
  {
   "cell_type": "code",
   "execution_count": 29,
   "metadata": {},
   "outputs": [
    {
     "data": {
      "text/plain": [
       "'Information\\nTable of Contents URL: https://novelfull.com/reverend-insanity.html\\n\\n\\n\\nAuthor:Gu Zhen Ren, 蛊真人\\nAlternative names:Cổ chân nhân, Daoist Gu, Gu Zhen Ren, 蛊真人\\nGenre:Fantasy, Martial Arts, Acti'"
      ]
     },
     "execution_count": 29,
     "metadata": {},
     "output_type": "execute_result"
    }
   ],
   "source": [
    "# 文件读取\n",
    "with open('../../../z_using_files/txt/Reverend_Insanity.txt','r',encoding='utf-8') as f:\n",
    "    text = f.read()\n",
    "text[:200]"
   ]
  },
  {
   "cell_type": "code",
   "execution_count": 30,
   "metadata": {},
   "outputs": [
    {
     "name": "stderr",
     "output_type": "stream",
     "text": [
      "2025-01-05 17:38:39-INFO: \u001b[32m6581059\u001b[0m\n",
      "2025-01-05 17:38:39-INFO: \u001b[32m[15218, 198, 2620, 315, 36962, 5665, 25, 3788, 1129, 39142, 491, 620, 916, 10991, 424, 408, 22610, 39370, 2628, 1038]\u001b[0m\n",
      "2025-01-05 17:38:39-INFO: \u001b[32mmax_token_value:100252\u001b[0m\n"
     ]
    }
   ],
   "source": [
    "\n",
    "# 使用 TikToken 将文本 token 化\n",
    "import tiktoken\n",
    "cl100k_base = tiktoken.get_encoding(\"cl100k_base\")\n",
    "enc = cl100k_base.encode(text)\n",
    "tokenized_text = torch.tensor(enc, dtype=torch.long, device=device) # Convert tokens into a tensor\n",
    "max_token_value = tokenized_text.max().item()\n",
    "logger.info(colored(f\"{len(enc)}\", \"green\"))\n",
    "logger.info(colored(f\"{enc[:20]}\", \"green\"))\n",
    "logger.info(colored(f\"max_token_value:{max_token_value}\", \"green\"))"
   ]
  },
  {
   "cell_type": "code",
   "execution_count": 33,
   "metadata": {},
   "outputs": [
    {
     "data": {
      "text/plain": [
       "(tensor([15218,   198,  2620,  ...,  1053,  3719,   872]),\n",
       " tensor([91231,   481,  1853,  ...,  3284,    13,   720]),\n",
       " 5922953,\n",
       " 658106)"
      ]
     },
     "execution_count": 33,
     "metadata": {},
     "output_type": "execute_result"
    }
   ],
   "source": [
    "# 数据分割训练集,验证集\n",
    "split_idx = int(len(tokenized_text) * 0.9)\n",
    "train_data = tokenized_text[:split_idx]\n",
    "val_data = tokenized_text[split_idx:]\n",
    "train_data, val_data , len(train_data), len(val_data)"
   ]
  }
 ],
 "metadata": {
  "kernelspec": {
   "display_name": ".venv",
   "language": "python",
   "name": "python3"
  },
  "language_info": {
   "codemirror_mode": {
    "name": "ipython",
    "version": 3
   },
   "file_extension": ".py",
   "mimetype": "text/x-python",
   "name": "python",
   "nbconvert_exporter": "python",
   "pygments_lexer": "ipython3",
   "version": "3.12.0"
  }
 },
 "nbformat": 4,
 "nbformat_minor": 2
}
