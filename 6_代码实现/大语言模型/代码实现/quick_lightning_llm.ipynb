{
 "cells": [
  {
   "cell_type": "markdown",
   "metadata": {},
   "source": [
    "# 组件化模型构建+开始训练\n",
    "使用 lightning 训练 Decoder-Only 的 Transformer 模型"
   ]
  },
  {
   "cell_type": "code",
   "execution_count": 6,
   "metadata": {},
   "outputs": [],
   "source": [
    "# 使用 lightning 训练 Decoder-Only 的 Transformer 模型\n",
    "import os\n",
    "import math\n",
    "import tiktoken\n",
    "import torch\n",
    "import torch.nn as nn\n",
    "from torch.nn import functional as F\n",
    "import lightning as L\n",
    "\n",
    "from dotenv import load_dotenv\n",
    "import logging\n",
    "from termcolor import colored\n",
    "\n",
    "load_dotenv()\n",
    "log_level = os.getenv(\"LOG_LEVEL\", \"INFO\").upper()\n",
    "logging.basicConfig(\n",
    "    level=getattr(logging, log_level),\n",
    "    format=\"%(asctime)s-%(levelname)s: %(message)s\",\n",
    "    datefmt=\"%Y-%m-%d %H:%M:%S\"\n",
    ")\n",
    "logger = logging.getLogger(__name__)"
   ]
  },
  {
   "cell_type": "code",
   "execution_count": 9,
   "metadata": {},
   "outputs": [
    {
     "name": "stderr",
     "output_type": "stream",
     "text": [
      "2025-01-12 21:25:50-INFO: \u001b[32mdevice:cpu\u001b[0m\n"
     ]
    }
   ],
   "source": [
    "# 超参数设置\n",
    "device = 'cuda' if torch.cuda.is_available() else 'cpu'\n",
    "batch_size = 4 # 批次大小\n",
    "context_length = 16 # 文本长度 ==> 截取一段话,其最多有 context_length 个 token \n",
    "d_model = 64  # 模型维度\n",
    "num_blocks = 8  # 模型 block 层数\n",
    "num_heads = 4  # 通过 d_model / num_heads = 来获取 head_size\n",
    "learning_rate = 1e-3  # 学习率 0.001\n",
    "dropout = 0.1 # Dropout rate\n",
    "max_iters = 500  # 迭代次数\n",
    "eval_interval = 50  # 每多少轮验证模型 \n",
    "eval_iters = 20  # 评估模型时，需要对损失进行多少次迭代平均\n",
    "\n",
    "TORCH_SEED = 1337\n",
    "torch.manual_seed(TORCH_SEED)\n",
    "\n",
    "logger.info(colored(f\"device:{device}\", \"green\"))"
   ]
  },
  {
   "cell_type": "code",
   "execution_count": 10,
   "metadata": {},
   "outputs": [
    {
     "data": {
      "text/plain": [
       "'Information\\nTable of Contents URL: https://novelfull.com/reverend-insanity.html\\n\\n\\n\\nAuthor:Gu Zhen Ren, 蛊真人\\nAlternative names:Cổ chân nhân, Daoist Gu, Gu Zhen Ren, 蛊真人\\nGenre:Fantasy, Martial Arts, Acti'"
      ]
     },
     "execution_count": 10,
     "metadata": {},
     "output_type": "execute_result"
    }
   ],
   "source": [
    "# 文件读取\n",
    "with open('../../../z_using_files/txt/Reverend_Insanity.txt','r',encoding='utf-8') as f:\n",
    "    text = f.read()\n",
    "text[:200]"
   ]
  },
  {
   "cell_type": "code",
   "execution_count": 11,
   "metadata": {},
   "outputs": [
    {
     "name": "stderr",
     "output_type": "stream",
     "text": [
      "2025-01-12 22:06:56-INFO: \u001b[32m6581059\u001b[0m\n",
      "2025-01-12 22:06:56-INFO: \u001b[32m[15218, 198, 2620, 315, 36962, 5665, 25, 3788, 1129, 39142, 491, 620, 916, 10991, 424, 408, 22610, 39370, 2628, 1038]\u001b[0m\n",
      "2025-01-12 22:06:56-INFO: \u001b[32mmax_token_value:100252\u001b[0m\n",
      "2025-01-12 22:06:56-INFO: \u001b[32m5922953, 658106\u001b[0m\n"
     ]
    }
   ],
   "source": [
    "# 使用 TikToken 将文本 token 化\n",
    "import tiktoken\n",
    "cl100k_base = tiktoken.get_encoding(\"cl100k_base\")\n",
    "enc = cl100k_base.encode(text)\n",
    "tokenized_text = torch.tensor(enc, dtype=torch.long, device=device) # Convert tokens into a tensor\n",
    "max_token_value = tokenized_text.max().item()\n",
    "logger.info(colored(f\"{len(enc)}\", \"green\"))\n",
    "logger.info(colored(f\"{enc[:20]}\", \"green\"))\n",
    "logger.info(colored(f\"max_token_value:{max_token_value}\", \"green\"))\n",
    "\n",
    "# 数据分割训练集,验证集\n",
    "split_idx = int(len(tokenized_text) * 0.9)\n",
    "train_data = tokenized_text[:split_idx]\n",
    "val_data = tokenized_text[split_idx:]\n",
    "train_data, val_data , len(train_data), len(val_data)\n",
    "logger.info(colored(f\"{len(train_data)}, {len(val_data)}\", \"green\"))"
   ]
  },
  {
   "cell_type": "code",
   "execution_count": null,
   "metadata": {},
   "outputs": [],
   "source": [
    "class ScaledDotProductAttention(nn.Module):\n",
    "    def __init__(self, d_model, num_heads):\n",
    "        super().__init__()\n",
    "        self.d_model = d_model\n",
    "        self.num_heads = num_heads\n",
    "        self.Dk = self.d_model // self.num_heads\n",
    "        self.Wq = nn.Linear(self.d_model, self.d_model)\n",
    "        self.Wk = nn.Linear(self.d_model, self.d_model)\n",
    "        self.Wv = nn.Linear(self.d_model, self.d_model)\n",
    "\n",
    "    def forward(self, x, mask=None):\n",
    "        batch_size, seq_length, _ = x.size()\n",
    "        \n",
    "        Q = self.Wq(x)\n",
    "        K = self.Wk(x)\n",
    "        V = self.Wv(x)\n",
    "        \n",
    "        # Reshape to (batch_size, num_heads, seq_length, Dk)\n",
    "        Q = Q.view(batch_size, seq_length, self.num_heads, self.Dk).transpose(1, 2)\n",
    "        K = K.view(batch_size, seq_length, self.num_heads, self.Dk).transpose(1, 2)\n",
    "        V = V.view(batch_size, seq_length, self.num_heads, self.Dk).transpose(1, 2)\n",
    "        \n",
    "        # Scaled dot-product attention\n",
    "        attention = torch.matmul(Q, K.transpose(-2, -1)) / math.sqrt(self.Dk)\n",
    "        \n",
    "        if mask is not None:\n",
    "            attention = attention.masked_fill(mask == 0, float('-inf'))\n",
    "        \n",
    "        attention = F.softmax(attention, dim=-1)\n",
    "        attention = torch.matmul(attention, V)\n",
    "        \n",
    "        # Reshape back to (batch_size, seq_length, d_model)\n",
    "        attention = attention.transpose(1, 2).contiguous().view(batch_size, seq_length, self.d_model)\n",
    "        \n",
    "        return attention"
   ]
  },
  {
   "cell_type": "code",
   "execution_count": null,
   "metadata": {},
   "outputs": [],
   "source": [
    "# FFN\n",
    "class FeedForward(nn.Module):\n",
    "    def __init__(self, d_model, dropout=0.1):\n",
    "        super().__init__()\n",
    "        self.d_model = d_model\n",
    "        self.dropout = dropout\n",
    "        self.ffn = nn.Sequential(\n",
    "            nn.Linear(d_model, d_model * 4),\n",
    "            nn.ReLU(),\n",
    "            nn.Linear(d_model * 4, d_model),\n",
    "            nn.Dropout(dropout),\n",
    "        )\n",
    "\n",
    "    def forward(x):\n",
    "        return self.ffn(x)"
   ]
  },
  {
   "cell_type": "code",
   "execution_count": null,
   "metadata": {},
   "outputs": [],
   "source": [
    "class MultiHeadAttention(nn.Module):\n",
    "    def __init__(self, d_model, num_heads):\n",
    "        super().__init__()\n",
    "        self.d_model = d_model\n",
    "        self.num_heads = num_heads\n",
    "        self.attention = ScaledDotProductAttention(d_model, num_heads)\n",
    "        self.Wo = nn.Linear(d_model, d_model)\n",
    "\n",
    "    def forward(self, x, mask=None):\n",
    "        attention_output = self.attention(x, mask)\n",
    "        output = self.Wo(attention_output)\n",
    "        return output"
   ]
  },
  {
   "cell_type": "code",
   "execution_count": null,
   "metadata": {},
   "outputs": [],
   "source": [
    "class TransformerBlock(nn.Module):\n",
    "    def __init__(self, d_model, num_heads, dropout=0.1):\n",
    "        super().__init__()\n",
    "        self.attention = MultiHeadAttention(d_model, num_heads)\n",
    "        self.ffn = FeedForward(d_model, dropout)\n",
    "        self.norm1 = nn.LayerNorm(d_model)\n",
    "        self.norm2 = nn.LayerNorm(d_model)\n",
    "        self.dropout = nn.Dropout(dropout)\n",
    "\n",
    "    def forward(self, x, mask=None):\n",
    "        # Multi-head attention\n",
    "        attention_output = self.attention(x, mask)\n",
    "        x = x + self.dropout(attention_output)\n",
    "        x = self.norm1(x)\n",
    "        \n",
    "        # Feed-forward network\n",
    "        ffn_output = self.ffn(x)\n",
    "        x = x + self.dropout(ffn_output)\n",
    "        x = self.norm2(x)\n",
    "        \n",
    "        return x"
   ]
  },
  {
   "cell_type": "code",
   "execution_count": null,
   "metadata": {},
   "outputs": [],
   "source": []
  },
  {
   "cell_type": "code",
   "execution_count": null,
   "metadata": {},
   "outputs": [],
   "source": [
    "# https://github.com/Lightning-AI/pytorch-lightning\n",
    "class LitDecoderOnlyTransformer(L.LightningModule):\n",
    "    def __init__(self):\n",
    "        super().__init__()"
   ]
  }
 ],
 "metadata": {
  "kernelspec": {
   "display_name": ".venv",
   "language": "python",
   "name": "python3"
  },
  "language_info": {
   "codemirror_mode": {
    "name": "ipython",
    "version": 3
   },
   "file_extension": ".py",
   "mimetype": "text/x-python",
   "name": "python",
   "nbconvert_exporter": "python",
   "pygments_lexer": "ipython3",
   "version": "3.12.3"
  }
 },
 "nbformat": 4,
 "nbformat_minor": 2
}
