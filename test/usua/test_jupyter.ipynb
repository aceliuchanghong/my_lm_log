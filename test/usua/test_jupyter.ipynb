{
 "cells": [
  {
   "cell_type": "code",
   "execution_count": 1,
   "metadata": {},
   "outputs": [],
   "source": [
    "import torch"
   ]
  },
  {
   "cell_type": "code",
   "execution_count": 2,
   "metadata": {},
   "outputs": [],
   "source": [
    "# 定义感知机模型\n",
    "class Perceptron(torch.nn.Module):\n",
    "    def __init__(self, input_size):\n",
    "        super(Perceptron, self).__init__()\n",
    "        self.linear = torch.nn.Linear(input_size, 1)\n",
    "    \n",
    "    def forward(self, x):\n",
    "        return torch.sign(self.linear(x))"
   ]
  },
  {
   "cell_type": "code",
   "execution_count": 3,
   "metadata": {},
   "outputs": [],
   "source": [
    "# 训练感知机模型\n",
    "def train_perceptron(model, X_train, y_train, learning_rate=0.01, epochs=100):\n",
    "    criterion = torch.nn.MSELoss()\n",
    "    optimizer = torch.optim.SGD(model.parameters(), lr=learning_rate)\n",
    "    \n",
    "    for epoch in range(epochs):\n",
    "        optimizer.zero_grad()\n",
    "        outputs = model(X_train)\n",
    "        loss = criterion(outputs, y_train)\n",
    "        loss.backward()\n",
    "        optimizer.step()\n",
    "    \n",
    "        if epoch % 10 == 0:\n",
    "            print(f'Epoch {epoch}, Loss: {loss.item()}')"
   ]
  },
  {
   "cell_type": "code",
   "execution_count": 4,
   "metadata": {},
   "outputs": [
    {
     "name": "stdout",
     "output_type": "stream",
     "text": [
      "Epoch 0, Loss: 2.0\n",
      "Epoch 10, Loss: 2.0\n",
      "Epoch 20, Loss: 2.0\n",
      "Epoch 30, Loss: 2.0\n",
      "Epoch 40, Loss: 2.0\n",
      "Epoch 50, Loss: 2.0\n",
      "Epoch 60, Loss: 2.0\n",
      "Epoch 70, Loss: 2.0\n",
      "Epoch 80, Loss: 2.0\n",
      "Epoch 90, Loss: 2.0\n"
     ]
    }
   ],
   "source": [
    "# 生成示例数据\n",
    "X_train = torch.tensor([[2, 3], [1, 1], [2, 1], [3, 2]], dtype=torch.float32)\n",
    "y_train = torch.tensor([1, -1, -1, 1], dtype=torch.float32).view(-1, 1)\n",
    "\n",
    "# 初始化感知机\n",
    "model = Perceptron(input_size=2)\n",
    "\n",
    "# 训练模型\n",
    "train_perceptron(model, X_train, y_train)"
   ]
  },
  {
   "cell_type": "code",
   "execution_count": 5,
   "metadata": {},
   "outputs": [
    {
     "name": "stdout",
     "output_type": "stream",
     "text": [
      "预测结果: tensor([1., 1., 1., 1.])\n",
      "真实标签: tensor([ 1., -1.,  1., -1.])\n",
      "模型准确率: 50.00%\n"
     ]
    }
   ],
   "source": [
    "# 生成测试数据\n",
    "X_test = torch.tensor([[2, 2], [1, 2], [3, 3], [0, 0]], dtype=torch.float32)\n",
    "y_test = torch.tensor([1, -1, 1, -1], dtype=torch.float32).view(-1, 1)\n",
    "\n",
    "# 模型预测函数\n",
    "def predict(model, X):\n",
    "    with torch.no_grad():  # 禁用梯度计算，减少内存开销\n",
    "        output = model(X)\n",
    "        predictions = torch.sign(output)  # 使用符号函数将输出转化为-1或1\n",
    "        return predictions\n",
    "\n",
    "# 对测试数据进行预测\n",
    "y_pred = predict(model, X_test)\n",
    "\n",
    "# 打印预测结果和真实标签\n",
    "print(f\"预测结果: {y_pred.view(-1)}\")\n",
    "print(f\"真实标签: {y_test.view(-1)}\")\n",
    "\n",
    "# 计算准确率\n",
    "accuracy = (y_pred == y_test).float().mean().item() * 100\n",
    "print(f\"模型准确率: {accuracy:.2f}%\")\n"
   ]
  }
 ],
 "metadata": {
  "kernelspec": {
   "display_name": ".venv",
   "language": "python",
   "name": "python3"
  },
  "language_info": {
   "codemirror_mode": {
    "name": "ipython",
    "version": 3
   },
   "file_extension": ".py",
   "mimetype": "text/x-python",
   "name": "python",
   "nbconvert_exporter": "python",
   "pygments_lexer": "ipython3",
   "version": "3.12.0"
  }
 },
 "nbformat": 4,
 "nbformat_minor": 2
}
