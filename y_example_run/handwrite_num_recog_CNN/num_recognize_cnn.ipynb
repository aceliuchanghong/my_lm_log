{
 "cells": [
  {
   "cell_type": "code",
   "execution_count": 13,
   "metadata": {},
   "outputs": [
    {
     "data": {
      "text/plain": [
       "'2.4.1+cu121'"
      ]
     },
     "execution_count": 13,
     "metadata": {},
     "output_type": "execute_result"
    }
   ],
   "source": [
    "# https://github.com/zergtant/pytorch-handbook/blob/master/chapter3/3.2-mnist.ipynb\n",
    "# https://blog.csdn.net/qq_45588019/article/details/120935828\n",
    "import torch\n",
    "import torch.nn as nn\n",
    "import torch.nn.functional as F\n",
    "import torch.optim as optim\n",
    "from torchvision import datasets, transforms\n",
    "from torch.utils.data import DataLoader\n",
    "torch.__version__"
   ]
  },
  {
   "cell_type": "code",
   "execution_count": 15,
   "metadata": {},
   "outputs": [],
   "source": [
    "transform = transforms.Compose(\n",
    "    [\n",
    "        # 将图像从PIL格式或numpy数组转换为PyTorch的张量格式,并且将像素值从[0, 255]缩放到[0, 1]。\n",
    "        transforms.ToTensor(),\n",
    "        # 对图像的每个通道进行标准化。这里使用的均值和标准差都是0.5\n",
    "        # 标准化后像素值 = (原来的像素值-0.5)/0.5\n",
    "        # transforms.Normalize((0.5,), (0.5,))\n",
    "        # 使用的是 MNIST 数据集的实际均值和标准差\n",
    "        transforms.Normalize((0.1307,), (0.3081,)),\n",
    "    ]\n",
    ")"
   ]
  },
  {
   "cell_type": "code",
   "execution_count": 16,
   "metadata": {},
   "outputs": [],
   "source": [
    "train_dataset = datasets.MNIST(\"./data\", train=True, download=True, transform=transform)\n",
    "test_dataset = datasets.MNIST(\"./data\", train=False, transform=transform)\n",
    "BATCH_SIZE=1024\n",
    "train_loader = DataLoader(\n",
    "    train_dataset,\n",
    "    batch_size=BATCH_SIZE,\n",
    "    shuffle=True,\n",
    ")\n",
    "test_loader = DataLoader(\n",
    "    test_dataset,\n",
    "    batch_size=BATCH_SIZE,\n",
    "    shuffle=True,\n",
    ")"
   ]
  },
  {
   "cell_type": "code",
   "execution_count": 17,
   "metadata": {},
   "outputs": [
    {
     "data": {
      "image/png": "[encoded data removed]",
      "text/plain": [
       "<Figure size 640x480 with 12 Axes>"
      ]
     },
     "metadata": {},
     "output_type": "display_data"
    }
   ],
   "source": [
    "from matplotlib import pyplot as plt\n",
    "fig = plt.figure()\n",
    "for i in range(12):\n",
    "    plt.subplot(3, 4, i+1)\n",
    "    plt.tight_layout()\n",
    "    plt.imshow(train_dataset.train_data[i], cmap='gray', interpolation='none')\n",
    "    plt.title(\"Labels: {}\".format(train_dataset.train_labels[i]))\n",
    "    plt.xticks([])\n",
    "    plt.yticks([])\n",
    "plt.show()\n"
   ]
  },
  {
   "cell_type": "code",
   "execution_count": 23,
   "metadata": {},
   "outputs": [
    {
     "data": {
      "text/plain": [
       "'\\n输入图像的大小：假设输入的图像大小是 28x28(例如 MNIST 手写数字识别数据集中的图像大小）。步长默认为 1,填充(padding)默认为 0。\\n\\n第一个卷积层：\\n\\n卷积核大小为 5x5,因此每个卷积操作后图像大小会减少 (5-1),即减少 4 个像素。\\n因此,卷积后的图像大小为 28 - 4 = 24。\\n然后经过一个 2x2 的最大池化层,池化层会将图像尺寸减半,最终输出图像大小为 24/2 = 12。\\n输出的通道数为 10(由卷积层定义）,所以卷积层后的输出形状是 10x12x12。\\n第二个卷积层：\\n\\n卷积核大小仍为 5x5,因此图像大小再次减少 (5-1),即减少 4 个像素。\\n卷积后的图像大小为 12 - 4 = 8。\\n然后再次经过一个 2x2 的最大池化层,图像尺寸再次减半,最终输出图像大小为 8/2 = 4。\\n输出的通道数为 20(由第二个卷积层定义）,因此卷积层的最终输出形状为 20x4x4。\\n展平为一维向量：在传入全连接层之前,需要将卷积层输出的三维张量展平为一维向量。20x4x4 展平后为 20 * 4 * 4 = 320。\\n\\n因此,输入全连接层时,节点数就是 320。\\n'"
      ]
     },
     "execution_count": 23,
     "metadata": {},
     "output_type": "execute_result"
    }
   ],
   "source": [
    "class Net(torch.nn.Module):  # 定义一个继承自nn.Module的神经网络类\n",
    "    def __init__(self):  # 初始化网络结构\n",
    "        super(Net, self).__init__()  # 调用父类的构造函数\n",
    "        self.conv1 = torch.nn.Sequential(  # 第一个卷积层及其激活函数和池化层\n",
    "            torch.nn.Conv2d(1, 10, kernel_size=5),  # 卷积层：输入通道数为1,输出通道数为10,卷积核大小为5x5\n",
    "            torch.nn.ReLU(),  # ReLU激活函数\n",
    "            torch.nn.MaxPool2d(kernel_size=2),  # 最大池化层：池化窗口大小为2x2\n",
    "        )\n",
    "        self.conv2 = torch.nn.Sequential(  # 第二个卷积层及其激活函数和池化层\n",
    "            torch.nn.Conv2d(10, 20, kernel_size=5),  # 卷积层：输入通道数为10,输出通道数为20,卷积核大小为5x5\n",
    "            torch.nn.ReLU(),  # ReLU激活函数\n",
    "            torch.nn.MaxPool2d(kernel_size=2),  # 最大池化层：池化窗口大小为2x2\n",
    "        )\n",
    "        self.fc = torch.nn.Sequential(  # 全连接层\n",
    "            torch.nn.Linear(320, 50),  # 全连接层：输入320个节点,输出50个节点\n",
    "            torch.nn.Linear(50, 10),  # 全连接层：输入50个节点,输出10个节点(对应10类分类）\n",
    "        )\n",
    "\n",
    "    def forward(self, x):  # 定义前向传播的过程\n",
    "        batch_size = x.size(0)  # 获取输入数据的批量大小\n",
    "        x = self.conv1(x)  # 通过第一个卷积层\n",
    "        x = self.conv2(x)  # 通过第二个卷积层\n",
    "        x = x.view(batch_size, -1)  # (batch_size,20,4,4) ==> (batch_size,320)\n",
    "        x = self.fc(x)  # 通过全连接层\n",
    "        return x  # 返回输出\n",
    "'''\n",
    "输入图像的大小：假设输入的图像大小是 28x28(例如 MNIST 手写数字识别数据集中的图像大小）。步长默认为 1,填充(padding)默认为 0。\n",
    "\n",
    "第一个卷积层：\n",
    "\n",
    "卷积核大小为 5x5,因此每个卷积操作后图像大小会减少 (5-1),即减少 4 个像素。\n",
    "因此,卷积后的图像大小为 28 - 4 = 24。\n",
    "然后经过一个 2x2 的最大池化层,池化层会将图像尺寸减半,最终输出图像大小为 24/2 = 12。\n",
    "输出的通道数为 10(由卷积层定义）,所以卷积层后的输出形状是 10x12x12。\n",
    "第二个卷积层：\n",
    "\n",
    "卷积核大小仍为 5x5,因此图像大小再次减少 (5-1),即减少 4 个像素。\n",
    "卷积后的图像大小为 12 - 4 = 8。\n",
    "然后再次经过一个 2x2 的最大池化层,图像尺寸再次减半,最终输出图像大小为 8/2 = 4。\n",
    "输出的通道数为 20(由第二个卷积层定义）,因此卷积层的最终输出形状为 20x4x4。\n",
    "展平为一维向量：在传入全连接层之前,需要将卷积层输出的三维张量展平为一维向量。20x4x4 展平后为 20 * 4 * 4 = 320。\n",
    "\n",
    "因此,输入全连接层时,节点数就是 320。\n",
    "'''"
   ]
  },
  {
   "cell_type": "code",
   "execution_count": 24,
   "metadata": {},
   "outputs": [],
   "source": [
    "EPOCHS = 20\n",
    "DEVICE = torch.device(\"cuda\" if torch.cuda.is_available() else \"cpu\")\n",
    "model = Net().to(DEVICE)\n",
    "optimizer = optim.AdamW(model.parameters(), lr=0.001)"
   ]
  },
  {
   "cell_type": "code",
   "execution_count": 25,
   "metadata": {},
   "outputs": [],
   "source": [
    "def train(model, device, train_loader, optimizer, epoch):\n",
    "    model.train()\n",
    "    for batch_idx, (data, target) in enumerate(train_loader):\n",
    "        data, target = data.to(device), target.to(device)\n",
    "        optimizer.zero_grad()\n",
    "        output = model(data)\n",
    "        loss = F.nll_loss(output, target)\n",
    "        loss.backward()\n",
    "        optimizer.step()\n",
    "        if (batch_idx + 1) % 30 == 0:\n",
    "            print(\n",
    "                \"Train Epoch: {} [{}/{} ({:.0f}%)]\\tLoss: {:.6f}\".format(\n",
    "                    epoch,\n",
    "                    batch_idx * len(data),\n",
    "                    len(train_loader.dataset),\n",
    "                    100.0 * batch_idx / len(train_loader),\n",
    "                    loss.item(),\n",
    "                )\n",
    "            )\n",
    "\n",
    "\n",
    "def test(model, device, test_loader):\n",
    "    model.eval()\n",
    "    test_loss = 0\n",
    "    correct = 0\n",
    "    with torch.no_grad():\n",
    "        for data, target in test_loader:\n",
    "            data, target = data.to(device), target.to(device)\n",
    "            output = model(data)\n",
    "            test_loss += F.nll_loss(\n",
    "                output, target, reduction=\"sum\"\n",
    "            ).item()  # 将一批的损失相加\n",
    "            pred = output.max(1, keepdim=True)[1]  # 找到概率最大的下标\n",
    "            correct += pred.eq(target.view_as(pred)).sum().item()\n",
    "\n",
    "    test_loss /= len(test_loader.dataset)\n",
    "    print(\n",
    "        \"\\nTest set: Average loss: {:.4f}, Accuracy: {}/{} ({:.0f}%)\\n\".format(\n",
    "            test_loss,\n",
    "            correct,\n",
    "            len(test_loader.dataset),\n",
    "            100.0 * correct / len(test_loader.dataset),\n",
    "        )\n",
    "    )"
   ]
  },
  {
   "cell_type": "code",
   "execution_count": 26,
   "metadata": {},
   "outputs": [
    {
     "name": "stdout",
     "output_type": "stream",
     "text": [
      "Train Epoch: 1 [29696/60000 (49%)]\tLoss: -149.758179\n",
      "\n",
      "Test set: Average loss: -3749.2133, Accuracy: 974/10000 (10%)\n",
      "\n",
      "Train Epoch: 2 [29696/60000 (49%)]\tLoss: -28467.498047\n",
      "\n",
      "Test set: Average loss: -139043.4248, Accuracy: 974/10000 (10%)\n",
      "\n",
      "Train Epoch: 3 [29696/60000 (49%)]\tLoss: -429355.906250\n",
      "\n",
      "Test set: Average loss: -1115262.7776, Accuracy: 974/10000 (10%)\n",
      "\n",
      "Train Epoch: 4 [29696/60000 (49%)]\tLoss: -2339271.250000\n",
      "\n",
      "Test set: Average loss: -4588811.9040, Accuracy: 974/10000 (10%)\n",
      "\n",
      "Train Epoch: 5 [29696/60000 (49%)]\tLoss: -7964516.500000\n",
      "\n",
      "Test set: Average loss: -13178875.8016, Accuracy: 974/10000 (10%)\n",
      "\n",
      "Train Epoch: 6 [29696/60000 (49%)]\tLoss: -20225370.000000\n",
      "\n",
      "Test set: Average loss: -30362716.9792, Accuracy: 974/10000 (10%)\n",
      "\n",
      "Train Epoch: 7 [29696/60000 (49%)]\tLoss: -42735084.000000\n",
      "\n",
      "Test set: Average loss: -60307755.0080, Accuracy: 974/10000 (10%)\n",
      "\n",
      "Train Epoch: 8 [29696/60000 (49%)]\tLoss: -80201776.000000\n",
      "\n",
      "Test set: Average loss: -107912485.2736, Accuracy: 974/10000 (10%)\n",
      "\n",
      "Train Epoch: 9 [29696/60000 (49%)]\tLoss: -138665872.000000\n",
      "\n",
      "Test set: Average loss: -178372416.3072, Accuracy: 974/10000 (10%)\n",
      "\n",
      "Train Epoch: 10 [29696/60000 (49%)]\tLoss: -216682208.000000\n",
      "\n",
      "Test set: Average loss: -277562680.9344, Accuracy: 974/10000 (10%)\n",
      "\n",
      "Train Epoch: 11 [29696/60000 (49%)]\tLoss: -336424160.000000\n",
      "\n",
      "Test set: Average loss: -411550249.7792, Accuracy: 974/10000 (10%)\n",
      "\n",
      "Train Epoch: 12 [29696/60000 (49%)]\tLoss: -487411168.000000\n",
      "\n",
      "Test set: Average loss: -586696549.9904, Accuracy: 974/10000 (10%)\n",
      "\n",
      "Train Epoch: 13 [29696/60000 (49%)]\tLoss: -676350464.000000\n",
      "\n",
      "Test set: Average loss: -809819937.1776, Accuracy: 974/10000 (10%)\n",
      "\n",
      "Train Epoch: 14 [29696/60000 (49%)]\tLoss: -912643968.000000\n",
      "\n",
      "Test set: Average loss: -1087452046.9504, Accuracy: 974/10000 (10%)\n",
      "\n",
      "Train Epoch: 15 [29696/60000 (49%)]\tLoss: -1239767168.000000\n",
      "\n",
      "Test set: Average loss: -1426631177.0112, Accuracy: 974/10000 (10%)\n",
      "\n",
      "Train Epoch: 16 [29696/60000 (49%)]\tLoss: -1585905024.000000\n",
      "\n",
      "Test set: Average loss: -1834645900.4928, Accuracy: 974/10000 (10%)\n",
      "\n",
      "Train Epoch: 17 [29696/60000 (49%)]\tLoss: -2015598720.000000\n",
      "\n",
      "Test set: Average loss: -2318764186.0096, Accuracy: 974/10000 (10%)\n",
      "\n",
      "Train Epoch: 18 [29696/60000 (49%)]\tLoss: -2518376704.000000\n",
      "\n",
      "Test set: Average loss: -2885332526.6944, Accuracy: 974/10000 (10%)\n",
      "\n",
      "Train Epoch: 19 [29696/60000 (49%)]\tLoss: -3165445632.000000\n",
      "\n",
      "Test set: Average loss: -3542097933.1072, Accuracy: 974/10000 (10%)\n",
      "\n",
      "Train Epoch: 20 [29696/60000 (49%)]\tLoss: -3846405888.000000\n",
      "\n",
      "Test set: Average loss: -4296668977.5616, Accuracy: 974/10000 (10%)\n",
      "\n"
     ]
    }
   ],
   "source": [
    "for epoch in range(1, EPOCHS + 1):\n",
    "    train(model, DEVICE, train_loader, optimizer, epoch)\n",
    "    test(model, DEVICE, test_loader)"
   ]
  }
 ],
 "metadata": {
  "kernelspec": {
   "display_name": ".venv",
   "language": "python",
   "name": "python3"
  },
  "language_info": {
   "codemirror_mode": {
    "name": "ipython",
    "version": 3
   },
   "file_extension": ".py",
   "mimetype": "text/x-python",
   "name": "python",
   "nbconvert_exporter": "python",
   "pygments_lexer": "ipython3",
   "version": "3.11.5"
  }
 },
 "nbformat": 4,
 "nbformat_minor": 2
}
