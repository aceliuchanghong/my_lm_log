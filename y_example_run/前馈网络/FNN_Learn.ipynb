{
 "cells": [
  {
   "cell_type": "code",
   "execution_count": 5,
   "metadata": {},
   "outputs": [],
   "source": [
    "import torch\n",
    "import torch.nn as nn\n",
    "import torch.optim as optim"
   ]
  },
  {
   "cell_type": "code",
   "execution_count": 6,
   "metadata": {},
   "outputs": [],
   "source": [
    "# 定义前馈神经网络类\n",
    "class FeedforwardNN(nn.Module):\n",
    "    def __init__(self, input_size, hidden_size, output_size):\n",
    "        super(FeedforwardNN, self).__init__()\n",
    "        self.fc1 = nn.Linear(input_size, hidden_size)\n",
    "        self.relu = nn.ReLU()\n",
    "        self.fc2 = nn.Linear(hidden_size, output_size)\n",
    "    \n",
    "    def forward(self, x):\n",
    "        out = self.fc1(x)\n",
    "        out = self.relu(out)\n",
    "        out = self.fc2(out)\n",
    "        return out"
   ]
  },
  {
   "cell_type": "code",
   "execution_count": 7,
   "metadata": {},
   "outputs": [
    {
     "name": "stdout",
     "output_type": "stream",
     "text": [
      "Loss: 1.2303574085235596\n"
     ]
    }
   ],
   "source": [
    "# 参数\n",
    "input_size = 10   # 输入层大小\n",
    "hidden_size = 5   # 隐藏层大小\n",
    "output_size = 1   # 输出层大小\n",
    "learning_rate = 0.001\n",
    "\n",
    "# 实例化网络\n",
    "model = FeedforwardNN(input_size, hidden_size, output_size)\n",
    "\n",
    "# 损失函数和优化器\n",
    "criterion = nn.MSELoss()\n",
    "optimizer = optim.Adam(model.parameters(), lr=learning_rate)\n",
    "\n",
    "# 假设输入和目标输出\n",
    "inputs = torch.randn(1, input_size)\n",
    "targets = torch.randn(1, output_size)\n",
    "\n",
    "# 前向传播和反向传播\n",
    "outputs = model(inputs)\n",
    "loss = criterion(outputs, targets)\n",
    "loss.backward()\n",
    "optimizer.step()\n",
    "\n",
    "print(f'Loss: {loss.item()}')"
   ]
  },
  {
   "cell_type": "code",
   "execution_count": 13,
   "metadata": {},
   "outputs": [
    {
     "data": {
      "application/mercury+json": {
       "code_uid": "Text.0.50.78.2-randef37fc34",
       "disabled": false,
       "hidden": false,
       "label": "What is your name?",
       "model_id": "f5f93596129c4e9d8132a5bb86e2ee2b",
       "rows": 1,
       "sanitize": true,
       "url_key": "",
       "value": "Piotr",
       "widget": "Text"
      },
      "application/vnd.jupyter.widget-view+json": {
       "model_id": "f5f93596129c4e9d8132a5bb86e2ee2b",
       "version_major": 2,
       "version_minor": 0
      },
      "text/plain": [
       "mercury.Text"
      ]
     },
     "metadata": {},
     "output_type": "display_data"
    }
   ],
   "source": [
    "import mercury as mr\n",
    "name = mr.Text(value=\"Piotr\", label=\"What is your name?\")\n"
   ]
  },
  {
   "cell_type": "code",
   "execution_count": 15,
   "metadata": {},
   "outputs": [
    {
     "name": "stdout",
     "output_type": "stream",
     "text": [
      "Hello Piotrv551515\n"
     ]
    }
   ],
   "source": [
    "print(f\"Hello {name.value}\")"
   ]
  }
 ],
 "metadata": {
  "kernelspec": {
   "display_name": "Python 3 (ipykernel)",
   "language": "python",
   "name": "python3"
  },
  "language_info": {
   "codemirror_mode": {
    "name": "ipython",
    "version": 3
   },
   "file_extension": ".py",
   "mimetype": "text/x-python",
   "name": "python",
   "nbconvert_exporter": "python",
   "pygments_lexer": "ipython3",
   "version": "3.11.5"
  }
 },
 "nbformat": 4,
 "nbformat_minor": 2
}
